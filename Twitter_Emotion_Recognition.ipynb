{
 "cells": [
  {
   "cell_type": "code",
   "execution_count": null,
   "id": "52d7e0ee",
   "metadata": {},
   "outputs": [],
   "source": [
    "## Import required Libraries"
   ]
  },
  {
   "cell_type": "code",
   "execution_count": 3,
   "id": "7f9c1486",
   "metadata": {},
   "outputs": [],
   "source": [
    "%matplotlib inline\n",
    "\n",
    "import tensorflow as tf\n",
    "import numpy as np\n",
    "import matplotlib.pyplot as plt\n",
    "import nlp\n",
    "import random\n"
   ]
  },
  {
   "cell_type": "code",
   "execution_count": 4,
   "id": "26b66570",
   "metadata": {},
   "outputs": [],
   "source": [
    "## Import emotion dataset"
   ]
  },
  {
   "cell_type": "code",
   "execution_count": 5,
   "id": "600ff604",
   "metadata": {},
   "outputs": [
    {
     "name": "stdout",
     "output_type": "stream",
     "text": [
      "Using TensorFlow version 2.10.0\n"
     ]
    }
   ],
   "source": [
    "print('Using TensorFlow version', tf.__version__)"
   ]
  },
  {
   "cell_type": "code",
   "execution_count": 6,
   "id": "d3cf5250",
   "metadata": {},
   "outputs": [
    {
     "name": "stderr",
     "output_type": "stream",
     "text": [
      "Using custom data configuration default\n"
     ]
    }
   ],
   "source": [
    "dataset=nlp.load_dataset('emotion')"
   ]
  },
  {
   "cell_type": "code",
   "execution_count": 7,
   "id": "06bd027b",
   "metadata": {},
   "outputs": [
    {
     "data": {
      "text/plain": [
       "{'train': Dataset(features: {'text': Value(dtype='string', id=None), 'label': Value(dtype='string', id=None)}, num_rows: 16000),\n",
       " 'validation': Dataset(features: {'text': Value(dtype='string', id=None), 'label': Value(dtype='string', id=None)}, num_rows: 2000),\n",
       " 'test': Dataset(features: {'text': Value(dtype='string', id=None), 'label': Value(dtype='string', id=None)}, num_rows: 2000)}"
      ]
     },
     "execution_count": 7,
     "metadata": {},
     "output_type": "execute_result"
    }
   ],
   "source": [
    "dataset"
   ]
  },
  {
   "cell_type": "code",
   "execution_count": 8,
   "id": "4938d86d",
   "metadata": {},
   "outputs": [],
   "source": [
    "## Divide data into Train, Validation and Test"
   ]
  },
  {
   "cell_type": "code",
   "execution_count": 9,
   "id": "a5de9ef7",
   "metadata": {},
   "outputs": [],
   "source": [
    "train=dataset['train']\n",
    "val=dataset['validation']\n",
    "test=dataset['test']"
   ]
  },
  {
   "cell_type": "code",
   "execution_count": 10,
   "id": "35ae71b5",
   "metadata": {},
   "outputs": [],
   "source": [
    "## Get the tweet data and respective labels"
   ]
  },
  {
   "cell_type": "code",
   "execution_count": 11,
   "id": "35b82bf6",
   "metadata": {},
   "outputs": [],
   "source": [
    "def get_tweet_data(dataset):\n",
    "    tweets=[x['text'] for x in dataset]\n",
    "    labels=[x['label'] for x in dataset]\n",
    "    return tweets, labels\n",
    "    "
   ]
  },
  {
   "cell_type": "code",
   "execution_count": 12,
   "id": "a1ba165f",
   "metadata": {},
   "outputs": [],
   "source": [
    "tweets,labels=get_tweet_data(train)\n"
   ]
  },
  {
   "cell_type": "code",
   "execution_count": 13,
   "id": "e055b789",
   "metadata": {},
   "outputs": [],
   "source": [
    "## Tokenizer"
   ]
  },
  {
   "cell_type": "code",
   "execution_count": 14,
   "id": "8e18e52c",
   "metadata": {},
   "outputs": [],
   "source": [
    "from tensorflow.keras.preprocessing.text import Tokenizer"
   ]
  },
  {
   "cell_type": "code",
   "execution_count": 15,
   "id": "d0fbe4c7",
   "metadata": {},
   "outputs": [],
   "source": [
    "tokenizer=Tokenizer(num_words=10000, oov_token='<UNK>')\n",
    "tokenizer.fit_on_texts(tweets)"
   ]
  },
  {
   "cell_type": "code",
   "execution_count": 16,
   "id": "6f70783d",
   "metadata": {},
   "outputs": [],
   "source": [
    "lengths=[len(t.split(' '))for t in tweets]"
   ]
  },
  {
   "cell_type": "code",
   "execution_count": 18,
   "id": "b72d6319",
   "metadata": {},
   "outputs": [],
   "source": [
    "## Histogram to check the lengths of the tweets"
   ]
  },
  {
   "cell_type": "code",
   "execution_count": 19,
   "id": "8260846f",
   "metadata": {},
   "outputs": [
    {
     "data": {
      "image/png": "[encoded data removed]",
      "text/plain": [
       "<Figure size 640x480 with 1 Axes>"
      ]
     },
     "metadata": {},
     "output_type": "display_data"
    }
   ],
   "source": [
    "plt.hist(lengths,bins=len(set(lengths)))\n",
    "plt.show()"
   ]
  },
  {
   "cell_type": "code",
   "execution_count": 20,
   "id": "a2c9d291",
   "metadata": {},
   "outputs": [],
   "source": [
    "maxlen=50"
   ]
  },
  {
   "cell_type": "code",
   "execution_count": 21,
   "id": "d50ba0f1",
   "metadata": {},
   "outputs": [],
   "source": [
    "## Padding and Truncating the data to have a same saize input"
   ]
  },
  {
   "cell_type": "code",
   "execution_count": 22,
   "id": "12e80212",
   "metadata": {},
   "outputs": [],
   "source": [
    "from tensorflow.keras.preprocessing.sequence import pad_sequences\n"
   ]
  },
  {
   "cell_type": "code",
   "execution_count": 23,
   "id": "d5283a47",
   "metadata": {},
   "outputs": [],
   "source": [
    "def get_sequences(tokenizer,tweets):\n",
    "    sequences=tokenizer.texts_to_sequences(tweets)\n",
    "    padded=pad_sequences(sequences,truncating='post',padding='post',maxlen=maxlen)\n",
    "    return padded"
   ]
  },
  {
   "cell_type": "code",
   "execution_count": 26,
   "id": "45446c8c",
   "metadata": {},
   "outputs": [],
   "source": [
    "padded_train_seq=get_sequences(tokenizer,tweets)"
   ]
  },
  {
   "cell_type": "code",
   "execution_count": null,
   "id": "04f6ef55",
   "metadata": {},
   "outputs": [],
   "source": [
    "## Prepare Labels"
   ]
  },
  {
   "cell_type": "code",
   "execution_count": 27,
   "id": "8ad22842",
   "metadata": {},
   "outputs": [],
   "source": [
    "classes = set (labels)"
   ]
  },
  {
   "cell_type": "code",
   "execution_count": 29,
   "id": "fadb862d",
   "metadata": {},
   "outputs": [],
   "source": [
    "## Display all unique classes (emotions)"
   ]
  },
  {
   "cell_type": "code",
   "execution_count": 30,
   "id": "b8c702e7",
   "metadata": {},
   "outputs": [
    {
     "data": {
      "text/plain": [
       "{'anger', 'fear', 'joy', 'love', 'sadness', 'surprise'}"
      ]
     },
     "execution_count": 30,
     "metadata": {},
     "output_type": "execute_result"
    }
   ],
   "source": [
    "classes"
   ]
  },
  {
   "cell_type": "code",
   "execution_count": 31,
   "id": "ed4e2828",
   "metadata": {},
   "outputs": [],
   "source": [
    "class_to_index=dict((c,i)for i,c in enumerate(classes))"
   ]
  },
  {
   "cell_type": "code",
   "execution_count": 32,
   "id": "ddf5fc8a",
   "metadata": {},
   "outputs": [
    {
     "data": {
      "text/plain": [
       "{'anger': 0, 'sadness': 1, 'fear': 2, 'joy': 3, 'surprise': 4, 'love': 5}"
      ]
     },
     "execution_count": 32,
     "metadata": {},
     "output_type": "execute_result"
    }
   ],
   "source": [
    "class_to_index"
   ]
  },
  {
   "cell_type": "code",
   "execution_count": 33,
   "id": "9dbd1735",
   "metadata": {},
   "outputs": [],
   "source": [
    "index_to_class=dict((v,k)for k,v in class_to_index.items())"
   ]
  },
  {
   "cell_type": "code",
   "execution_count": 34,
   "id": "21708c0c",
   "metadata": {},
   "outputs": [
    {
     "data": {
      "text/plain": [
       "{0: 'anger', 1: 'sadness', 2: 'fear', 3: 'joy', 4: 'surprise', 5: 'love'}"
      ]
     },
     "execution_count": 34,
     "metadata": {},
     "output_type": "execute_result"
    }
   ],
   "source": [
    "index_to_class"
   ]
  },
  {
   "cell_type": "code",
   "execution_count": 35,
   "id": "a638f83e",
   "metadata": {},
   "outputs": [],
   "source": [
    "name_to_ids=lambda labels:np.array([class_to_index.get(x)for x in labels])"
   ]
  },
  {
   "cell_type": "code",
   "execution_count": 36,
   "id": "b929d607",
   "metadata": {},
   "outputs": [],
   "source": [
    "train_labels=name_to_ids(labels)"
   ]
  },
  {
   "cell_type": "code",
   "execution_count": 37,
   "id": "4c556bfc",
   "metadata": {},
   "outputs": [],
   "source": [
    "## Create NN model"
   ]
  },
  {
   "cell_type": "code",
   "execution_count": 38,
   "id": "10095731",
   "metadata": {},
   "outputs": [],
   "source": [
    "model=tf.keras.models.Sequential([\n",
    "    tf.keras.layers.Embedding(10000,16,input_length=maxlen),\n",
    "    tf.keras.layers.Bidirectional(tf.keras.layers.LSTM(20, return_sequences=True)),\n",
    "    tf.keras.layers.Bidirectional(tf.keras.layers.LSTM(20)),\n",
    "    tf.keras.layers.Dense(6,activation='softmax')\n",
    "    \n",
    "])\n",
    "model.compile(\n",
    "loss='sparse_categorical_crossentropy',\n",
    "    optimizer='adam',\n",
    "    metrics=['accuracy']\n",
    ")"
   ]
  },
  {
   "cell_type": "code",
   "execution_count": 39,
   "id": "604a2557",
   "metadata": {},
   "outputs": [
    {
     "name": "stdout",
     "output_type": "stream",
     "text": [
      "Model: \"sequential\"\n",
      "_________________________________________________________________\n",
      " Layer (type)                Output Shape              Param #   \n",
      "=================================================================\n",
      " embedding (Embedding)       (None, 50, 16)            160000    \n",
      "                                                                 \n",
      " bidirectional (Bidirectiona  (None, 50, 40)           5920      \n",
      " l)                                                              \n",
      "                                                                 \n",
      " bidirectional_1 (Bidirectio  (None, 40)               9760      \n",
      " nal)                                                            \n",
      "                                                                 \n",
      " dense (Dense)               (None, 6)                 246       \n",
      "                                                                 \n",
      "=================================================================\n",
      "Total params: 175,926\n",
      "Trainable params: 175,926\n",
      "Non-trainable params: 0\n",
      "_________________________________________________________________\n"
     ]
    }
   ],
   "source": [
    "model.summary()"
   ]
  },
  {
   "cell_type": "code",
   "execution_count": 41,
   "id": "ef8912a7",
   "metadata": {},
   "outputs": [],
   "source": [
    "## Train the model "
   ]
  },
  {
   "cell_type": "code",
   "execution_count": 42,
   "id": "01f54efd",
   "metadata": {},
   "outputs": [],
   "source": [
    "val_tweets,val_labels=get_tweet_data(val)\n",
    "val_seq=get_sequences(tokenizer,val_tweets)\n",
    "val_labels=name_to_ids(val_labels)"
   ]
  },
  {
   "cell_type": "code",
   "execution_count": 43,
   "id": "49b8c9cf",
   "metadata": {},
   "outputs": [
    {
     "name": "stdout",
     "output_type": "stream",
     "text": [
      "Epoch 1/20\n",
      "500/500 [==============================] - 31s 47ms/step - loss: 1.3339 - accuracy: 0.4479 - val_loss: 0.8499 - val_accuracy: 0.6885\n",
      "Epoch 2/20\n",
      "500/500 [==============================] - 18s 37ms/step - loss: 0.5814 - accuracy: 0.7983 - val_loss: 0.5459 - val_accuracy: 0.8155\n",
      "Epoch 3/20\n",
      "500/500 [==============================] - 19s 39ms/step - loss: 0.3419 - accuracy: 0.8852 - val_loss: 0.4789 - val_accuracy: 0.8415\n",
      "Epoch 4/20\n",
      "500/500 [==============================] - 20s 39ms/step - loss: 0.2598 - accuracy: 0.9088 - val_loss: 0.4597 - val_accuracy: 0.8505\n",
      "Epoch 5/20\n",
      "500/500 [==============================] - 19s 38ms/step - loss: 0.1843 - accuracy: 0.9379 - val_loss: 0.4395 - val_accuracy: 0.8660\n",
      "Epoch 6/20\n",
      "500/500 [==============================] - 19s 39ms/step - loss: 0.1484 - accuracy: 0.9522 - val_loss: 0.4616 - val_accuracy: 0.8680\n",
      "Epoch 7/20\n",
      "500/500 [==============================] - 19s 39ms/step - loss: 0.1244 - accuracy: 0.9621 - val_loss: 0.4383 - val_accuracy: 0.8800\n",
      "Epoch 8/20\n",
      "500/500 [==============================] - 21s 42ms/step - loss: 0.0987 - accuracy: 0.9691 - val_loss: 0.4507 - val_accuracy: 0.8760\n",
      "Epoch 9/20\n",
      "500/500 [==============================] - 19s 38ms/step - loss: 0.0880 - accuracy: 0.9721 - val_loss: 0.3889 - val_accuracy: 0.8885\n",
      "Epoch 10/20\n",
      "500/500 [==============================] - 18s 35ms/step - loss: 0.0701 - accuracy: 0.9769 - val_loss: 0.4385 - val_accuracy: 0.8880\n",
      "Epoch 11/20\n",
      "500/500 [==============================] - 18s 36ms/step - loss: 0.0745 - accuracy: 0.9758 - val_loss: 0.4553 - val_accuracy: 0.8725\n"
     ]
    }
   ],
   "source": [
    "h=model.fit(\n",
    "padded_train_seq, train_labels,\n",
    "    validation_data=(val_seq,val_labels),\n",
    "    epochs=20,\n",
    "    callbacks=[\n",
    "        \n",
    "        tf.keras.callbacks.EarlyStopping(monitor='val_accuracy',patience=2)\n",
    "    ]\n",
    ")"
   ]
  },
  {
   "cell_type": "code",
   "execution_count": null,
   "id": "59bd3231",
   "metadata": {},
   "outputs": [],
   "source": [
    "## Show Training History"
   ]
  },
  {
   "cell_type": "code",
   "execution_count": 44,
   "id": "4671375a",
   "metadata": {},
   "outputs": [],
   "source": [
    "def show_history(h):\n",
    "    epochs_trained = len(h.history['loss'])\n",
    "    plt.figure(figsize=(16, 6))\n",
    "\n",
    "    plt.subplot(1, 2, 1)\n",
    "    plt.plot(range(0, epochs_trained), h.history.get('accuracy'), label='Training')\n",
    "    plt.plot(range(0, epochs_trained), h.history.get('val_accuracy'), label='Validation')\n",
    "    plt.ylim([0., 1.])\n",
    "    plt.xlabel('Epochs')\n",
    "    plt.ylabel('Accuracy')\n",
    "    plt.legend()\n",
    "\n",
    "    plt.subplot(1, 2, 2)\n",
    "    plt.plot(range(0, epochs_trained), h.history.get('loss'), label='Training')\n",
    "    plt.plot(range(0, epochs_trained), h.history.get('val_loss'), label='Validation')\n",
    "    plt.xlabel('Epochs')\n",
    "    plt.ylabel('Loss')\n",
    "    plt.legend()\n",
    "    plt.show()\n",
    "\n",
    "    \n",
    "def show_confusion_matrix(y_true, y_pred, classes):\n",
    "    from sklearn.metrics import confusion_matrix\n",
    "    \n",
    "    cm = confusion_matrix(y_true, y_pred, normalize='true')\n",
    "\n",
    "    plt.figure(figsize=(8, 8))\n",
    "    sp = plt.subplot(1, 1, 1)\n",
    "    ctx = sp.matshow(cm)\n",
    "    plt.xticks(list(range(0, 6)), labels=classes)\n",
    "    plt.yticks(list(range(0, 6)), labels=classes)\n",
    "    plt.colorbar(ctx)\n",
    "    plt.show()"
   ]
  },
  {
   "cell_type": "code",
   "execution_count": 45,
   "id": "5940431e",
   "metadata": {},
   "outputs": [
    {
     "data": {
      "image/png": "[encoded data removed]",
      "text/plain": [
       "<Figure size 1600x600 with 2 Axes>"
      ]
     },
     "metadata": {},
     "output_type": "display_data"
    }
   ],
   "source": [
    "show_history(h)"
   ]
  },
  {
   "cell_type": "code",
   "execution_count": 46,
   "id": "9b0779d1",
   "metadata": {},
   "outputs": [],
   "source": [
    "## Predict the emotion"
   ]
  },
  {
   "cell_type": "code",
   "execution_count": 47,
   "id": "e1392a0d",
   "metadata": {},
   "outputs": [],
   "source": [
    "test_tweets,test_labels=get_tweet_data(test)\n",
    "test_seq=get_sequences(tokenizer,test_tweets)\n",
    "test_labels=name_to_ids(test_labels)"
   ]
  },
  {
   "cell_type": "code",
   "execution_count": 48,
   "id": "9b8389c0",
   "metadata": {},
   "outputs": [
    {
     "name": "stdout",
     "output_type": "stream",
     "text": [
      "Sentence: i feel like a may have mislead the very gracious readers of this blog\n",
      "Emotion: joy\n"
     ]
    }
   ],
   "source": [
    "i=random.randint(0,len(test_labels)-1)\n",
    "print ('Sentence:', test_tweets[i])\n",
    "print('Emotion:', index_to_class[test_labels[i]])"
   ]
  },
  {
   "cell_type": "code",
   "execution_count": 49,
   "id": "fae54b05",
   "metadata": {},
   "outputs": [
    {
     "name": "stdout",
     "output_type": "stream",
     "text": [
      "1/1 [==============================] - 2s 2s/step\n",
      "predicted Emotion: joy\n"
     ]
    }
   ],
   "source": [
    "p=model.predict(np.expand_dims(test_seq[i],axis=0))[0]\n",
    "pred_class=index_to_class[np.argmax(p).astype('uint8')]\n",
    "\n",
    "print('predicted Emotion:',pred_class)"
   ]
  },
  {
   "cell_type": "code",
   "execution_count": null,
   "id": "03ea5c56",
   "metadata": {},
   "outputs": [],
   "source": []
  }
 ],
 "metadata": {
  "kernelspec": {
   "display_name": "Python 3 (ipykernel)",
   "language": "python",
   "name": "python3"
  },
  "language_info": {
   "codemirror_mode": {
    "name": "ipython",
    "version": 3
   },
   "file_extension": ".py",
   "mimetype": "text/x-python",
   "name": "python",
   "nbconvert_exporter": "python",
   "pygments_lexer": "ipython3",
   "version": "3.10.7"
  }
 },
 "nbformat": 4,
 "nbformat_minor": 5
}
